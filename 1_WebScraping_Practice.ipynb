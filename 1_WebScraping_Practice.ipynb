{
 "cells": [
  {
   "cell_type": "markdown",
   "id": "50ccee9d",
   "metadata": {},
   "source": [
    "## 하나의 웹 사이트에 접속하기"
   ]
  },
  {
   "cell_type": "code",
   "execution_count": 1,
   "id": "0edca14b",
   "metadata": {},
   "outputs": [
    {
     "data": {
      "text/plain": [
       "True"
      ]
     },
     "execution_count": 1,
     "metadata": {},
     "output_type": "execute_result"
    }
   ],
   "source": [
    "# 사이트를 하나 지정한 후에 웹브라우저 열어서 접속하는 방법\n",
    "\n",
    "import webbrowser\n",
    "\n",
    "url = \"www.naver.com\"\n",
    "webbrowser.open(url)"
   ]
  },
  {
   "cell_type": "code",
   "execution_count": 2,
   "id": "321a7034",
   "metadata": {},
   "outputs": [
    {
     "data": {
      "text/plain": [
       "True"
      ]
     },
     "execution_count": 2,
     "metadata": {},
     "output_type": "execute_result"
    }
   ],
   "source": [
    "# 네이버에서 특정 검색어를 입력해 결과 얻기\n",
    "\n",
    "import webbrowser\n",
    "naver_search_url = \"http://search.naver.com/search.naver?query=\"\n",
    "search_word = '파이썬'\n",
    "url = naver_search_url + search_word\n",
    "webbrowser.open_new(url)"
   ]
  },
  {
   "cell_type": "code",
   "execution_count": 3,
   "id": "e508f74a",
   "metadata": {},
   "outputs": [
    {
     "data": {
      "text/plain": [
       "True"
      ]
     },
     "execution_count": 3,
     "metadata": {},
     "output_type": "execute_result"
    }
   ],
   "source": [
    "# 구글(Google)에서도 특정 검색어 입력해 결과 얻기\n",
    "\n",
    "import webbrowser\n",
    "\n",
    "google_url = \"www.google.com/search?q=\"\n",
    "search_word = 'python'\n",
    "url = google_url + search_word\n",
    "\n",
    "webbrowser.open_new(url)"
   ]
  },
  {
   "cell_type": "markdown",
   "id": "7708e3b8",
   "metadata": {},
   "source": [
    "## 여러 개의 웹 사이트에 접속하기"
   ]
  },
  {
   "cell_type": "code",
   "execution_count": 4,
   "id": "2b12105a",
   "metadata": {},
   "outputs": [],
   "source": [
    "# url 주소 리스트와 for문을 이용\n",
    "\n",
    "import webbrowser\n",
    "\n",
    "urls = [\"www.naver.com\", \"www.daum.net\", \"www.google.com\"]\n",
    "\n",
    "for url in urls:\n",
    "    webbrowser.open_new(url)"
   ]
  },
  {
   "cell_type": "code",
   "execution_count": 5,
   "id": "49c4e88f",
   "metadata": {},
   "outputs": [],
   "source": [
    "# 여러 단어 리스트와 for문 이용\n",
    "\n",
    "import webbrowser\n",
    "\n",
    "google_url = \"www.google.com/search?q=\"\n",
    "search_words = ['python web scraping', 'python webbrowser']\n",
    "\n",
    "for search_word in search_words:\n",
    "    webbrowser.open_new(google_url + search_word)"
   ]
  },
  {
   "cell_type": "markdown",
   "id": "7d325567",
   "metadata": {},
   "source": [
    "## 웹 스크레이핑을 위한 기본 지식\n",
    "### 데이터의 요청과 응답 과정\n",
    "### HTML의 기본 구조\n",
    "- HTML 생성"
   ]
  },
  {
   "cell_type": "code",
   "execution_count": 6,
   "id": "f0c85587",
   "metadata": {},
   "outputs": [
    {
     "name": "stdout",
     "output_type": "stream",
     "text": [
      "Writing C:\\Myexam\\HTML_example.html\n"
     ]
    }
   ],
   "source": [
    "%%writefile C:\\Myexam\\HTML_example.html\n",
    "<!doctype html>\n",
    "<html>\n",
    "    <head>\n",
    "        <meta charset=\"utf-8\">\n",
    "        <title>이것은 HTML 예제</title>\n",
    "    </head>\n",
    "    <body>\n",
    "        <h1>출간된 책 정보</h1>\n",
    "        <p id=\"book_title\">이해가 쏙쏙 되는 파이썬</p>\n",
    "        <p id=\"author\">홍길동</p>\n",
    "        <p id=\"publisher\">위키북스 출판사</p>\n",
    "        <p id=\"year\">2018<p>\n",
    "    </body>\n",
    "</html>"
   ]
  },
  {
   "cell_type": "code",
   "execution_count": 7,
   "id": "b9db96eb",
   "metadata": {},
   "outputs": [
    {
     "name": "stdout",
     "output_type": "stream",
     "text": [
      "Writing C:\\Myexam\\HTML_example2.html\n"
     ]
    }
   ],
   "source": [
    "%%writefile C:\\Myexam\\HTML_example2.html\n",
    "<!doctype html>\n",
    "<html>\n",
    "    <head>\n",
    "        <meta charset=\"utf-8\">\n",
    "        <title>이것은 HTML 예제</title>\n",
    "    </head>\n",
    "    <body>\n",
    "        <h1>출간된 책 정보</h1>\n",
    "        <p>이해가 쏙쏙 되는 파이썬</p>\n",
    "        <p>홍길동</p>\n",
    "        <p>위키북스 출판사</p>\n",
    "        <p>2018<p>\n",
    "    </body>\n",
    "</html>"
   ]
  },
  {
   "cell_type": "markdown",
   "id": "d843b94e",
   "metadata": {},
   "source": [
    "## 웹 페이지의 HTML 소스 갖고 오기"
   ]
  },
  {
   "cell_type": "code",
   "execution_count": 8,
   "id": "6fc584b8",
   "metadata": {},
   "outputs": [
    {
     "data": {
      "text/plain": [
       "<Response [200]>"
      ]
     },
     "execution_count": 8,
     "metadata": {},
     "output_type": "execute_result"
    }
   ],
   "source": [
    "import requests\n",
    "\n",
    "r = requests.get(\"https://www.google.co.kr\")\n",
    "r"
   ]
  },
  {
   "cell_type": "code",
   "execution_count": 9,
   "id": "f4601787",
   "metadata": {},
   "outputs": [
    {
     "data": {
      "text/plain": [
       "'<!doctype html><html itemscope=\"\" itemtype=\"http://schema.org/WebPage\" lang=\"ko\"><head><meta content'"
      ]
     },
     "execution_count": 9,
     "metadata": {},
     "output_type": "execute_result"
    }
   ],
   "source": [
    "r.text[0:100]"
   ]
  },
  {
   "cell_type": "code",
   "execution_count": 10,
   "id": "0fef75e6",
   "metadata": {},
   "outputs": [
    {
     "data": {
      "text/plain": [
       "'<!doctype html><html itemscope=\"\" itemtype=\"http://schema.org/WebPage\" lang=\"ko\"><head><meta content'"
      ]
     },
     "execution_count": 10,
     "metadata": {},
     "output_type": "execute_result"
    }
   ],
   "source": [
    "# 한 번에 수행 가능\n",
    "\n",
    "import requests\n",
    "\n",
    "html = requests.get(\"https://www.google.co.kr\").text\n",
    "html[0:100]"
   ]
  },
  {
   "cell_type": "markdown",
   "id": "a52241df",
   "metadata": {},
   "source": [
    "## HTML 소스코드를 분석하고 처리하기\n",
    "### 데이터 찾고 추출하기\n",
    "- HTML 코드를 분석해 원하는 데이터를 추출하는 방법\n",
    "- HTML 코드를 분석하기 위해서는 HTML 코드 구문을 이해하고 요소별로 HTML 코드를 분류\n",
    "- BeautifulSoup 라이브러리를 이용해 HTML 소스를 파싱하고 태그나 속성을 통해 원하는 데이터를 추출"
   ]
  },
  {
   "cell_type": "code",
   "execution_count": 11,
   "id": "7b1d06ba",
   "metadata": {},
   "outputs": [
    {
     "data": {
      "text/plain": [
       "<html><body><div><span> <a href=\"http://www.naver.com\">naver</a> <a href=\"https://www.google.com\">google</a> <a href=\"http://www.daum.net/\">daum</a> </span></div></body></html>"
      ]
     },
     "execution_count": 11,
     "metadata": {},
     "output_type": "execute_result"
    }
   ],
   "source": [
    "from bs4 import BeautifulSoup\n",
    "\n",
    "# 테스트용 html 코드\n",
    "html = \"\"\"<html><body><div><span>\\\n",
    "        <a href=http://www.naver.com>naver</a>\\\n",
    "        <a href=https://www.google.com>google</a>\\\n",
    "        <a href=http://www.daum.net/>daum</a>\\\n",
    "        </span></div></body></html>\"\"\"\n",
    "\n",
    "# BeautifulSoup를 이용해 HTML 소스를 파싱\n",
    "soup = BeautifulSoup(html, 'lxml')\n",
    "soup"
   ]
  },
  {
   "cell_type": "code",
   "execution_count": null,
   "id": "84cabea3",
   "metadata": {},
   "outputs": [],
   "source": []
  },
  {
   "cell_type": "markdown",
   "id": "9dcc2424",
   "metadata": {},
   "source": [
    "- 파싱 결과를 좀 더 보기 편하게 HTML 구조의 형태로 확인"
   ]
  },
  {
   "cell_type": "code",
   "execution_count": 12,
   "id": "bac5b9bf",
   "metadata": {},
   "outputs": [
    {
     "name": "stdout",
     "output_type": "stream",
     "text": [
      "<html>\n",
      " <body>\n",
      "  <div>\n",
      "   <span>\n",
      "    <a href=\"http://www.naver.com\">\n",
      "     naver\n",
      "    </a>\n",
      "    <a href=\"https://www.google.com\">\n",
      "     google\n",
      "    </a>\n",
      "    <a href=\"http://www.daum.net/\">\n",
      "     daum\n",
      "    </a>\n",
      "   </span>\n",
      "  </div>\n",
      " </body>\n",
      "</html>\n"
     ]
    }
   ],
   "source": [
    "print(soup.prettify())"
   ]
  },
  {
   "cell_type": "code",
   "execution_count": null,
   "id": "bfa98741",
   "metadata": {},
   "outputs": [],
   "source": []
  },
  {
   "cell_type": "markdown",
   "id": "ff88a1ac",
   "metadata": {},
   "source": [
    "- 파싱한 결과에서 BeautifulSoup.find('태그')를 수행하면 HTML 소스코드에서 해당 '태그'가 있는 첫 번째 요소를 찾아서 반환"
   ]
  },
  {
   "cell_type": "code",
   "execution_count": 13,
   "id": "d1ae363b",
   "metadata": {},
   "outputs": [
    {
     "data": {
      "text/plain": [
       "<a href=\"http://www.naver.com\">naver</a>"
      ]
     },
     "execution_count": 13,
     "metadata": {},
     "output_type": "execute_result"
    }
   ],
   "source": [
    "soup.find('a')"
   ]
  },
  {
   "cell_type": "code",
   "execution_count": null,
   "id": "1a389b5b",
   "metadata": {},
   "outputs": [],
   "source": []
  },
  {
   "cell_type": "markdown",
   "id": "4e9561cd",
   "metadata": {},
   "source": [
    "- get_text()는 HTML 소스코드의 요소에서 태그와 속성을 제거하고 텍스트 문자열만 반환\n",
    "- get_text()는 원하는 HTML 요소를 가져온 후에 마지막 단계에서 요소의 텍스트 부분만 추출할 때 이용"
   ]
  },
  {
   "cell_type": "code",
   "execution_count": 14,
   "id": "73c5d9c3",
   "metadata": {},
   "outputs": [
    {
     "data": {
      "text/plain": [
       "'naver'"
      ]
     },
     "execution_count": 14,
     "metadata": {},
     "output_type": "execute_result"
    }
   ],
   "source": [
    "soup.find('a').get_text()"
   ]
  },
  {
   "cell_type": "code",
   "execution_count": null,
   "id": "e1e37a22",
   "metadata": {},
   "outputs": [],
   "source": []
  },
  {
   "cell_type": "markdown",
   "id": "3b70c21e",
   "metadata": {},
   "source": [
    "- HTML 코드 안의 모든 a 태그를 찾아서 a 태그로 시작하는 모든 요소를 다 반환하려면 BeautifulSoup.find_all('태그')를 이용"
   ]
  },
  {
   "cell_type": "code",
   "execution_count": 15,
   "id": "ebf31573",
   "metadata": {},
   "outputs": [
    {
     "data": {
      "text/plain": [
       "[<a href=\"http://www.naver.com\">naver</a>,\n",
       " <a href=\"https://www.google.com\">google</a>,\n",
       " <a href=\"http://www.daum.net/\">daum</a>]"
      ]
     },
     "execution_count": 15,
     "metadata": {},
     "output_type": "execute_result"
    }
   ],
   "source": [
    "soup.find_all('a')"
   ]
  },
  {
   "cell_type": "code",
   "execution_count": null,
   "id": "70e8913a",
   "metadata": {},
   "outputs": [],
   "source": []
  },
  {
   "cell_type": "markdown",
   "id": "ed28c8a2",
   "metadata": {},
   "source": [
    "- 태그 이름의 모든 요소를 반환하는 find_all()의 결과는 리스트 형태로 반환\n",
    "- get_text()는 리스트에 적용할 수 없으므로 for문을 이용해 항목별로 get_text()를 적용\n"
   ]
  },
  {
   "cell_type": "code",
   "execution_count": 16,
   "id": "7fc21a04",
   "metadata": {},
   "outputs": [
    {
     "name": "stdout",
     "output_type": "stream",
     "text": [
      "naver\n",
      "google\n",
      "daum\n"
     ]
    }
   ],
   "source": [
    "site_names = soup.find_all('a')\n",
    "for site_name in site_names:\n",
    "    print(site_name.get_text())"
   ]
  },
  {
   "cell_type": "code",
   "execution_count": 17,
   "id": "9e354706",
   "metadata": {},
   "outputs": [],
   "source": [
    "# HTML 파일을 작성한 후에 html2 변수에 할당\n",
    "\n",
    "from bs4 import BeautifulSoup\n",
    "\n",
    "html2 = \"\"\"\n",
    "<html>\n",
    "    <head>\n",
    "        <title>작품과 작가 모음</title>\n",
    "    </head>\n",
    "    <body>\n",
    "        <h1>책 정보</h1>\n",
    "        <p id=\"book_title\">토지</p>\n",
    "        <p id=\"author\">박경리</p>\n",
    "        \n",
    "        <p id=\"book_title\">태백산맥</p>\n",
    "        <p id=\"author\">조정래</p>\n",
    "        \n",
    "        <p id=\"book_title\">감옥으로부터의 사색</p>\n",
    "        <p id=\"author\">신영복</p>\n",
    "    </body>\n",
    "</html>\n",
    "\"\"\"\n",
    "\n",
    "soup2 = BeautifulSoup(html2, \"lxml\")"
   ]
  },
  {
   "cell_type": "code",
   "execution_count": null,
   "id": "d30a8191",
   "metadata": {},
   "outputs": [],
   "source": []
  },
  {
   "cell_type": "markdown",
   "id": "428cf689",
   "metadata": {},
   "source": [
    "- BeautilfupSoup의 다양한 기능을 활용해 HTML 소스로부터 필요한 데이터를 추출\n",
    "- HTML 소스에서 title 태그의 요소는 'BeautifulSoup.title'을 이용해 가져올 수 있음\n"
   ]
  },
  {
   "cell_type": "code",
   "execution_count": 18,
   "id": "ae0d2f61",
   "metadata": {},
   "outputs": [
    {
     "data": {
      "text/plain": [
       "<title>작품과 작가 모음</title>"
      ]
     },
     "execution_count": 18,
     "metadata": {},
     "output_type": "execute_result"
    }
   ],
   "source": [
    "soup2.title"
   ]
  },
  {
   "cell_type": "code",
   "execution_count": 19,
   "id": "84a83e83",
   "metadata": {},
   "outputs": [
    {
     "data": {
      "text/plain": [
       "<body>\n",
       "<h1>책 정보</h1>\n",
       "<p id=\"book_title\">토지</p>\n",
       "<p id=\"author\">박경리</p>\n",
       "<p id=\"book_title\">태백산맥</p>\n",
       "<p id=\"author\">조정래</p>\n",
       "<p id=\"book_title\">감옥으로부터의 사색</p>\n",
       "<p id=\"author\">신영복</p>\n",
       "</body>"
      ]
     },
     "execution_count": 19,
     "metadata": {},
     "output_type": "execute_result"
    }
   ],
   "source": [
    "# HTML 소스의 body 태그의 요소는 'BeautiMSoup.body'를 이용해 가져올 수 있음\n",
    "\n",
    "soup2.body"
   ]
  },
  {
   "cell_type": "code",
   "execution_count": 20,
   "id": "2123e321",
   "metadata": {},
   "outputs": [
    {
     "data": {
      "text/plain": [
       "<h1>책 정보</h1>"
      ]
     },
     "execution_count": 20,
     "metadata": {},
     "output_type": "execute_result"
    }
   ],
   "source": [
    "# body 태그 요소 내에 h1 태그의 요소는 'BeautifulSoup.body.h1'로 가져올 수 있음\n",
    "\n",
    "soup2.body.h1"
   ]
  },
  {
   "cell_type": "code",
   "execution_count": 21,
   "id": "43deb5da",
   "metadata": {},
   "outputs": [
    {
     "data": {
      "text/plain": [
       "[<p id=\"book_title\">토지</p>,\n",
       " <p id=\"author\">박경리</p>,\n",
       " <p id=\"book_title\">태백산맥</p>,\n",
       " <p id=\"author\">조정래</p>,\n",
       " <p id=\"book_title\">감옥으로부터의 사색</p>,\n",
       " <p id=\"author\">신영복</p>]"
      ]
     },
     "execution_count": 21,
     "metadata": {},
     "output_type": "execute_result"
    }
   ],
   "source": [
    "soup2.find_all('p')"
   ]
  },
  {
   "cell_type": "markdown",
   "id": "980440c6",
   "metadata": {},
   "source": [
    "- p 태그 중 책 제목과 작가를 분리해서 가져오려면 find()나 find_all()을 이용할 때 '태그' 뿐만 아니라 태그 내의 '속성'도 함께 지정\n",
    "\n",
    "- BeautifulSoup.find_all('태그', '속성')\n",
    "- BeautifulSoup.find('태그', '속성')"
   ]
  },
  {
   "cell_type": "code",
   "execution_count": 22,
   "id": "9941faa5",
   "metadata": {},
   "outputs": [
    {
     "data": {
      "text/plain": [
       "<p id=\"book_title\">토지</p>"
      ]
     },
     "execution_count": 22,
     "metadata": {},
     "output_type": "execute_result"
    }
   ],
   "source": [
    "# html2의 HTML 코드의 p 태그 요소 중 id가 book_title인 속성을 갖는 첫 번째 요소만 반환\n",
    "\n",
    "soup2.find('p', {\"id\":\"book_title\"})"
   ]
  },
  {
   "cell_type": "code",
   "execution_count": 23,
   "id": "c05cefd3",
   "metadata": {},
   "outputs": [
    {
     "data": {
      "text/plain": [
       "<p id=\"author\">박경리</p>"
      ]
     },
     "execution_count": 23,
     "metadata": {},
     "output_type": "execute_result"
    }
   ],
   "source": [
    "# p 태그 요소 중 id가 author인 속성을 갖는 첫 번째 요소만 반환\n",
    "\n",
    "soup2.find('p', {\"id\":\"author\"})"
   ]
  },
  {
   "cell_type": "code",
   "execution_count": 24,
   "id": "2d2a6b6b",
   "metadata": {},
   "outputs": [
    {
     "data": {
      "text/plain": [
       "[<p id=\"book_title\">토지</p>,\n",
       " <p id=\"book_title\">태백산맥</p>,\n",
       " <p id=\"book_title\">감옥으로부터의 사색</p>]"
      ]
     },
     "execution_count": 24,
     "metadata": {},
     "output_type": "execute_result"
    }
   ],
   "source": [
    "# 조건을 만족하는 요소 전체를 가지고 오려면 find_all()을 이용\n",
    "\n",
    "soup2.find_all('p', {\"id\":\"book_title\"})"
   ]
  },
  {
   "cell_type": "code",
   "execution_count": 25,
   "id": "1f4895ab",
   "metadata": {},
   "outputs": [
    {
     "data": {
      "text/plain": [
       "[<p id=\"author\">박경리</p>, <p id=\"author\">조정래</p>, <p id=\"author\">신영복</p>]"
      ]
     },
     "execution_count": 25,
     "metadata": {},
     "output_type": "execute_result"
    }
   ],
   "source": [
    "soup2.find_all('p', {\"id\":\"author\"})"
   ]
  },
  {
   "cell_type": "code",
   "execution_count": null,
   "id": "23367865",
   "metadata": {},
   "outputs": [],
   "source": []
  },
  {
   "cell_type": "markdown",
   "id": "48591e90",
   "metadata": {},
   "source": [
    "- 책 제목과 작가를 포함한 요소를 각각 추출한 후에 텍스트만 뽑는 코드"
   ]
  },
  {
   "cell_type": "code",
   "execution_count": 26,
   "id": "5b4200c3",
   "metadata": {},
   "outputs": [
    {
     "name": "stdout",
     "output_type": "stream",
     "text": [
      "토지/박경리\n",
      "태백산맥/조정래\n",
      "감옥으로부터의 사색/신영복\n"
     ]
    }
   ],
   "source": [
    "from bs4 import BeautifulSoup\n",
    "\n",
    "soup2 = BeautifulSoup(html2, \"lxml\")\n",
    "\n",
    "book_titles = soup2.find_all('p', {\"id\":\"book_title\"})\n",
    "authors = soup2.find_all('p', {\"id\":\"author\"})\n",
    "\n",
    "for book_title, author in zip(book_titles, authors):\n",
    "    print(book_title.get_text() + '/' + author.get_text())"
   ]
  },
  {
   "cell_type": "code",
   "execution_count": null,
   "id": "bf8992b8",
   "metadata": {},
   "outputs": [],
   "source": []
  },
  {
   "cell_type": "markdown",
   "id": "7b204db4",
   "metadata": {},
   "source": [
    "- CSS 선택자(selector)를 이용\n",
    "- CSS 선택자는 CSS에서 원하는 요소를 선택하는 것으로써 파이썬뿐만 아니라 다른 프로그래밍 언어에서도 HTML 소스를 처리할 때 많이 이용\n",
    "- BeautifulSoup도 'BeautifulSoup.select('태그 및 속성')를 통해 CSS 선택자를 지원\n",
    "- 'BeautifulSoup.select()'의 인자로 '태그 및 속성'을 단계적으로 입력하면 원하는 요소를 찾을 수 있음\n",
    "- html2 변수에 할당된 HTML 소스에서 body 태그 요소 내에 M 태그 요소를 가지고 오기"
   ]
  },
  {
   "cell_type": "code",
   "execution_count": 27,
   "id": "681d23c6",
   "metadata": {},
   "outputs": [
    {
     "data": {
      "text/plain": [
       "[<h1>책 정보</h1>]"
      ]
     },
     "execution_count": 27,
     "metadata": {},
     "output_type": "execute_result"
    }
   ],
   "source": [
    "soup2.select('body h1')"
   ]
  },
  {
   "cell_type": "code",
   "execution_count": 28,
   "id": "e1261fdb",
   "metadata": {},
   "outputs": [
    {
     "data": {
      "text/plain": [
       "[<p id=\"book_title\">토지</p>,\n",
       " <p id=\"author\">박경리</p>,\n",
       " <p id=\"book_title\">태백산맥</p>,\n",
       " <p id=\"author\">조정래</p>,\n",
       " <p id=\"book_title\">감옥으로부터의 사색</p>,\n",
       " <p id=\"author\">신영복</p>]"
      ]
     },
     "execution_count": 28,
     "metadata": {},
     "output_type": "execute_result"
    }
   ],
   "source": [
    "# body 태그 요소 중에 p 태그를 포함한 요소를 모두 갖고 오기\n",
    "\n",
    "soup2.select('body p')"
   ]
  },
  {
   "cell_type": "code",
   "execution_count": 29,
   "id": "92016b6e",
   "metadata": {},
   "outputs": [
    {
     "data": {
      "text/plain": [
       "[<p id=\"book_title\">토지</p>,\n",
       " <p id=\"author\">박경리</p>,\n",
       " <p id=\"book_title\">태백산맥</p>,\n",
       " <p id=\"author\">조정래</p>,\n",
       " <p id=\"book_title\">감옥으로부터의 사색</p>,\n",
       " <p id=\"author\">신영복</p>]"
      ]
     },
     "execution_count": 29,
     "metadata": {},
     "output_type": "execute_result"
    }
   ],
   "source": [
    "# 변수 html2의 HTML 소스에서 p 태그는 body 태그 요소 내에서만 있음\n",
    "\n",
    "soup2.select('p')"
   ]
  },
  {
   "cell_type": "code",
   "execution_count": 30,
   "id": "425fce29",
   "metadata": {},
   "outputs": [
    {
     "data": {
      "text/plain": [
       "[<p id=\"book_title\">토지</p>,\n",
       " <p id=\"book_title\">태백산맥</p>,\n",
       " <p id=\"book_title\">감옥으로부터의 사색</p>]"
      ]
     },
     "execution_count": 30,
     "metadata": {},
     "output_type": "execute_result"
    }
   ],
   "source": [
    "# 태그안의 속성과 속성값을 이용해 요소를 세밀하게 구분해 추출\n",
    "# 태그 안의 속성이 class인 경우 '태그.class_속성값'으로 입력하고\n",
    "# 속성이 id인 경우에는 '태그#id_속성값'으로 입력해 추출\n",
    "\n",
    "# 태그 안에 있는 속성이 id이므로 'p#id_속성값'으로 원하는 요소를 추출\n",
    "\n",
    "soup2.select('p#book_title')"
   ]
  },
  {
   "cell_type": "code",
   "execution_count": 31,
   "id": "66fa12b9",
   "metadata": {},
   "outputs": [
    {
     "data": {
      "text/plain": [
       "[<p id=\"author\">박경리</p>, <p id=\"author\">조정래</p>, <p id=\"author\">신영복</p>]"
      ]
     },
     "execution_count": 31,
     "metadata": {},
     "output_type": "execute_result"
    }
   ],
   "source": [
    "soup2.select('p#author')"
   ]
  },
  {
   "cell_type": "code",
   "execution_count": null,
   "id": "8669e6e6",
   "metadata": {},
   "outputs": [],
   "source": []
  },
  {
   "cell_type": "markdown",
   "id": "07e0472e",
   "metadata": {},
   "source": [
    "- class 속성이 있는 HTML 소스"
   ]
  },
  {
   "cell_type": "code",
   "execution_count": 32,
   "id": "a20862bd",
   "metadata": {},
   "outputs": [
    {
     "name": "stdout",
     "output_type": "stream",
     "text": [
      "Writing C:/Myexam/HTML_example_my_site.html\n"
     ]
    }
   ],
   "source": [
    "%%writefile C:/Myexam/HTML_example_my_site.html\n",
    "<!doctype html>\n",
    "<html>\n",
    "    <head>\n",
    "        <meta charset=\"utf-8\">\n",
    "        <title>사이트 모음</title>\n",
    "    </head>\n",
    "    <body>\n",
    "        <p id=\"title\"><b>자주 가는 사이트 모음</b></p>\n",
    "        <p id=\"contents\">이곳은 자주 가는 사이트를 모아둔 곳입니다.</p>\n",
    "        <a href=\"http://www.naver.com\" class=\"portal\" id=\"naver\">네이버</a><br>\n",
    "        <a href=\"https://www.google.com\" class=\"search\" id=\"google\">구글</a><br>\n",
    "        <a href=\"http://www.daum.net\" class=\"portal\" id=\"daum\">다음</a<br>\n",
    "        <a href=\"http://www.nl.go.kr\" class=\"goverment\" id=\"nl\">국립중앙도서관</a></br>\n",
    "    </body>\n",
    "</html>"
   ]
  },
  {
   "cell_type": "code",
   "execution_count": null,
   "id": "b9d464e6",
   "metadata": {},
   "outputs": [],
   "source": []
  },
  {
   "cell_type": "markdown",
   "id": "37af94b0",
   "metadata": {},
   "source": [
    "- 'BeautifulSoup.select('태그 및 속성')'에서 태그 안의 속성이 class인 경우\n",
    "- '태그.class_속성값'으로 원하는 요소를 추출\n",
    "- HTML 소스 파일은 이미 저장돼 있으므로 텍스트 파일을 읽어와서 변수 html3에 할당\n"
   ]
  },
  {
   "cell_type": "code",
   "execution_count": 33,
   "id": "44362146",
   "metadata": {},
   "outputs": [],
   "source": [
    "f = open('C:/Myexam/HTML_example_my_site.html', encoding='utf-8')\n",
    "\n",
    "html3 = f.read()\n",
    "f.close()\n",
    "\n",
    "soup3 = BeautifulSoup(html3, 'lxml')"
   ]
  },
  {
   "cell_type": "code",
   "execution_count": 34,
   "id": "3747d69b",
   "metadata": {},
   "outputs": [
    {
     "data": {
      "text/plain": [
       "[<a class=\"portal\" href=\"http://www.naver.com\" id=\"naver\">네이버</a>,\n",
       " <a class=\"search\" href=\"https://www.google.com\" id=\"google\">구글</a>,\n",
       " <a class=\"portal\" href=\"http://www.daum.net\" id=\"daum\">다음</a>,\n",
       " <a class=\"goverment\" href=\"http://www.nl.go.kr\" id=\"nl\">국립중앙도서관</a>]"
      ]
     },
     "execution_count": 34,
     "metadata": {},
     "output_type": "execute_result"
    }
   ],
   "source": [
    "# 읽어온 HTML 소스에서 태그가 a인 요소를 모두 가져오기\n",
    "\n",
    "soup3.select('a')"
   ]
  },
  {
   "cell_type": "code",
   "execution_count": null,
   "id": "9087bec3",
   "metadata": {},
   "outputs": [],
   "source": []
  },
  {
   "cell_type": "markdown",
   "id": "ff66eb4f",
   "metadata": {},
   "source": [
    "- HTML 소스에서 태그가 a이면서 class 속성값이 \"portal\"인 요소만 가져오기"
   ]
  },
  {
   "cell_type": "code",
   "execution_count": 36,
   "id": "944770bd",
   "metadata": {},
   "outputs": [
    {
     "data": {
      "text/plain": [
       "[<a class=\"portal\" href=\"http://www.naver.com\" id=\"naver\">네이버</a>,\n",
       " <a class=\"portal\" href=\"http://www.daum.net\" id=\"daum\">다음</a>]"
      ]
     },
     "execution_count": 36,
     "metadata": {},
     "output_type": "execute_result"
    }
   ],
   "source": [
    "soup3.select('a.portal')"
   ]
  },
  {
   "cell_type": "code",
   "execution_count": null,
   "id": "31aee2d7",
   "metadata": {},
   "outputs": [],
   "source": []
  },
  {
   "cell_type": "markdown",
   "id": "d5d645a9",
   "metadata": {},
   "source": [
    "### 웹 브라우저의 요소 검사"
   ]
  },
  {
   "cell_type": "markdown",
   "id": "746458b8",
   "metadata": {},
   "source": [
    "- soup3.select('html body a')\n",
    "- soup3.select('body a')\n",
    "- soup3.select('html a')\n",
    "- soup3.select('a')"
   ]
  },
  {
   "cell_type": "code",
   "execution_count": 37,
   "id": "9e7d6987",
   "metadata": {},
   "outputs": [
    {
     "data": {
      "text/plain": [
       "[<a class=\"portal\" href=\"http://www.naver.com\" id=\"naver\">네이버</a>,\n",
       " <a class=\"search\" href=\"https://www.google.com\" id=\"google\">구글</a>,\n",
       " <a class=\"portal\" href=\"http://www.daum.net\" id=\"daum\">다음</a>,\n",
       " <a class=\"goverment\" href=\"http://www.nl.go.kr\" id=\"nl\">국립중앙도서관</a>]"
      ]
     },
     "execution_count": 37,
     "metadata": {},
     "output_type": "execute_result"
    }
   ],
   "source": [
    "# 'BeautifulSoup.select('태그 및 속성')'의 인자로 a만 입력해 태그 a를 포함하는 모든 요소를 추출\n",
    "\n",
    "soup3.select('a')"
   ]
  },
  {
   "cell_type": "code",
   "execution_count": 38,
   "id": "53af92f4",
   "metadata": {},
   "outputs": [
    {
     "data": {
      "text/plain": [
       "[<a class=\"portal\" href=\"http://www.naver.com\" id=\"naver\">네이버</a>,\n",
       " <a class=\"portal\" href=\"http://www.daum.net\" id=\"daum\">다음</a>]"
      ]
     },
     "execution_count": 38,
     "metadata": {},
     "output_type": "execute_result"
    }
   ],
   "source": [
    "# HTML 소스에서 태그 a를 포함하는 요소 중 class 속성이 \"portal\"인 요소만 선택\n",
    "\n",
    "soup3.select('a.portal')"
   ]
  },
  {
   "cell_type": "code",
   "execution_count": 39,
   "id": "e300fb9a",
   "metadata": {},
   "outputs": [
    {
     "data": {
      "text/plain": [
       "[<a class=\"portal\" href=\"http://www.naver.com\" id=\"naver\">네이버</a>]"
      ]
     },
     "execution_count": 39,
     "metadata": {},
     "output_type": "execute_result"
    }
   ],
   "source": [
    "# 태그를 포함하는 요소 중 id 속성이 \"naver\"인 요소를 선택\n",
    "\n",
    "soup3.select(\"a#naver\")"
   ]
  },
  {
   "cell_type": "markdown",
   "id": "e92cdd60",
   "metadata": {},
   "source": [
    "### 줄 바꿈으로 가독성 높이기\n",
    "- HTML 소스 코드를 파일 ('br_example_constitution.html')로 저장"
   ]
  },
  {
   "cell_type": "code",
   "execution_count": 40,
   "id": "dcf0a343",
   "metadata": {},
   "outputs": [
    {
     "name": "stdout",
     "output_type": "stream",
     "text": [
      "Writing C:/Myexam/br_example_constitution.html\n"
     ]
    }
   ],
   "source": [
    "%%writefile C:/Myexam/br_example_constitution.html\n",
    "<!doctype html>\n",
    "<html>\n",
    "    <head>\n",
    "        <meta charset=\"utf-8\">\n",
    "        <title>줄 바꿈 테스트 예제</title>\n",
    "    </head>\n",
    "    <body>\n",
    "    <p id=\"title\"><b>대한민국헌법</b></p>\n",
    "    <p id=\"content\">제1조 <br/>①대한민국은 민주공화국이다. <br/>②대한민국의 주권은 국민에게 있고, 모든 권력은 국민으로부터 나온다. </p>\n",
    "    <p id=\"content\">제2조 <br/>①대한민국의 국민이 되는 요건은 법률로 정한다. <br/>②국가는 법률이 정하는 바에 의하여 재외국민을 보호할 의무를 진다.</p>\n",
    "    </body>\n",
    "</html>"
   ]
  },
  {
   "cell_type": "code",
   "execution_count": 41,
   "id": "728f69ef",
   "metadata": {},
   "outputs": [
    {
     "name": "stdout",
     "output_type": "stream",
     "text": [
      "대한민국헌법\n",
      "제1조 ①대한민국은 민주공화국이다. ②대한민국의 주권은 국민에게 있고, 모든 권력은 국민으로부터 나온다. \n",
      "제2조 ①대한민국의 국민이 되는 요건은 법률로 정한다. ②국가는 법률이 정하는 바에 의하여 재외국민을 보호할 의무를 진다.\n"
     ]
    }
   ],
   "source": [
    "# HTML 파일(''br_example_constitution.html')을 읽어서 변수 html_source에 할당한 후 요소에서 텍스를 추출하고 출력\n",
    "\n",
    "from bs4 import BeautifulSoup\n",
    "\n",
    "f = open('C:/Myexam/br_example_constitution.html', encoding='utf-8')\n",
    "\n",
    "html_source = f.read()\n",
    "f.close()\n",
    "\n",
    "soup = BeautifulSoup(html_source, \"lxml\")\n",
    "\n",
    "title = soup.find('p', {\"id\":\"title\"})\n",
    "contents = soup.find_all('p', {\"id\":\"content\"})\n",
    "\n",
    "print(title.get_text())\n",
    "for content in contents:\n",
    "    print(content.get_text())"
   ]
  },
  {
   "cell_type": "code",
   "execution_count": null,
   "id": "09e36bb1",
   "metadata": {},
   "outputs": [],
   "source": []
  },
  {
   "cell_type": "markdown",
   "id": "0998870e",
   "metadata": {},
   "source": [
    "- 추출된 HTML 코드에서 줄 바꿈 태그를 파이썬의 개행 문자(\\n)로 바꿈\n",
    "- BeautifulSoup의 'replace_with(새로운 문자열)'를 이용해 기존의 태그나 문자열을 새로운 태그나 문자열로 바꿈\n",
    "\n",
    "- find_result = BeautifulSoup.find('태그')\n",
    "- find_result.replace_with('새 태그나 문자열')"
   ]
  },
  {
   "cell_type": "code",
   "execution_count": 47,
   "id": "87fab7d3",
   "metadata": {},
   "outputs": [
    {
     "name": "stdout",
     "output_type": "stream",
     "text": [
      "==> 태그 p로 찾은 요소\n",
      "<p id=\"content\">제1조 <br/>①대한민국은 민주공화국이다.<br/>②대한민국의 주권은 국민에게 있고, 모든 권력은 국민으로부터 나온다.</p>\n",
      "==> 결과에서 태그 br로 찾은 요소: <br/>\n",
      "==> 태그 br을 개행 문자로 바꾼 결과\n",
      "<p id=\"content\">제1조 \n",
      "①대한민국은 민주공화국이다.<br/>②대한민국의 주권은 국민에게 있고, 모든 권력은 국민으로부터 나온다.</p>\n"
     ]
    }
   ],
   "source": [
    "# HTML 코드에서 br 태그를 파이썬의 개행문자로 바꾸고 싶으면\n",
    "\n",
    "html1 = '<p id=\"content\">제1조 <br/>①대한민국은 민주공화국이다.<br/>②대한민국의 주권은 국민에게 있고, 모든 권력은 국민으로부터 나온다.'\n",
    "\n",
    "soup1 = BeautifulSoup(html1, \"lxml\")\n",
    "\n",
    "print(\"==> 태그 p로 찾은 요소\")\n",
    "content1 = soup1.find('p', {\"id\":\"content\"})\n",
    "print(content1)\n",
    "\n",
    "\n",
    "br_content = content1.find(\"br\")\n",
    "print(\"==> 결과에서 태그 br로 찾은 요소:\", br_content)\n",
    "\n",
    "br_content.replace_with(\"\\n\")\n",
    "print(\"==> 태그 br을 개행 문자로 바꾼 결과\")\n",
    "print(content1)"
   ]
  },
  {
   "cell_type": "code",
   "execution_count": 48,
   "id": "a8187619",
   "metadata": {},
   "outputs": [
    {
     "name": "stdout",
     "output_type": "stream",
     "text": [
      "<p id=\"content\">제1조 \n",
      "①대한민국은 민주공화국이다.\n",
      "②대한민국의 주권은 국민에게 있고, 모든 권력은 국민으로부터 나온다.</p>\n"
     ]
    }
   ],
   "source": [
    "# 추출된 요소 전체에 적용\n",
    "\n",
    "soup2 = BeautifulSoup(html1, \"lxml\")\n",
    "content2 = soup2.find('p', {\"id\":\"content\"})\n",
    "\n",
    "br_contents = content2.find_all(\"br\")\n",
    "for br_content in br_contents:\n",
    "    br_content.replace_with(\"\\n\")\n",
    "print(content2)"
   ]
  },
  {
   "cell_type": "code",
   "execution_count": null,
   "id": "4c8d4eef",
   "metadata": {},
   "outputs": [],
   "source": []
  },
  {
   "cell_type": "markdown",
   "id": "24c9dcf1",
   "metadata": {},
   "source": [
    "- 함수 사용"
   ]
  },
  {
   "cell_type": "code",
   "execution_count": 50,
   "id": "587bf9cf",
   "metadata": {},
   "outputs": [],
   "source": [
    "def replace_newline(soup_html):\n",
    "    br_to_newlines = soup_html.find_all(\"br\")\n",
    "    for br_to_newline in br_to_newlines:\n",
    "        br_to_newline.replace_with(\"\\n\")\n",
    "    return soup_html"
   ]
  },
  {
   "cell_type": "code",
   "execution_count": null,
   "id": "af6f1f95",
   "metadata": {},
   "outputs": [],
   "source": []
  },
  {
   "cell_type": "markdown",
   "id": "c9f2b0a0",
   "metadata": {},
   "source": [
    "- BeautifulSoup으로 파싱된 HTML 소스에서 br 태그를 개행 문자(\\n)로 변경\n",
    "- 함수를 이용한 결과에서 요소의 내용만 추출하기 위해 get_text()를 적용"
   ]
  },
  {
   "cell_type": "code",
   "execution_count": 51,
   "id": "0dff106f",
   "metadata": {},
   "outputs": [
    {
     "name": "stdout",
     "output_type": "stream",
     "text": [
      "제1조 \n",
      "①대한민국은 민주공화국이다.\n",
      "②대한민국의 주권은 국민에게 있고, 모든 권력은 국민으로부터 나온다.\n"
     ]
    }
   ],
   "source": [
    "soup2 = BeautifulSoup(html1, \"lxml\")\n",
    "content2 = soup2.find('p', {\"id\":\"content\"})\n",
    "content3 = replace_newline(content2)\n",
    "print(content3.get_text())"
   ]
  },
  {
   "cell_type": "code",
   "execution_count": null,
   "id": "e66fed05",
   "metadata": {},
   "outputs": [],
   "source": []
  },
  {
   "cell_type": "markdown",
   "id": "4b4d2ea5",
   "metadata": {},
   "source": [
    "- HTML 소스코드를 할당한 변수 tml_source에 위의 파이썬 코드를 적용"
   ]
  },
  {
   "cell_type": "code",
   "execution_count": 52,
   "id": "c73bcf26",
   "metadata": {},
   "outputs": [
    {
     "name": "stdout",
     "output_type": "stream",
     "text": [
      "대한민국헌법 \n",
      "\n",
      "제1조 \n",
      "①대한민국은 민주공화국이다. \n",
      "②대한민국의 주권은 국민에게 있고, 모든 권력은 국민으로부터 나온다.  \n",
      "\n",
      "제2조 \n",
      "①대한민국의 국민이 되는 요건은 법률로 정한다. \n",
      "②국가는 법률이 정하는 바에 의하여 재외국민을 보호할 의무를 진다. \n",
      "\n"
     ]
    }
   ],
   "source": [
    "from bs4 import BeautifulSoup\n",
    "\n",
    "soup = BeautifulSoup(html_source, \"lxml\")\n",
    "\n",
    "title = soup.find('p', {\"id\":\"title\"})\n",
    "contents = soup.find_all('p', {\"id\":\"content\"})\n",
    "\n",
    "print(title.get_text(), '\\n')\n",
    "\n",
    "for content in contents:\n",
    "    content1 = replace_newline(content)\n",
    "    print(content1.get_text(), '\\n')"
   ]
  },
  {
   "cell_type": "markdown",
   "id": "36c6dfb7",
   "metadata": {},
   "source": [
    "- 줄을 바꾸어 문단을 구분하는 p 태그를 표기하기 위해 'content1.get_text()'를 print()로 출력할 때 개행 문자(\\n)를 추가"
   ]
  }
 ],
 "metadata": {
  "kernelspec": {
   "display_name": "Python 3 (ipykernel)",
   "language": "python",
   "name": "python3"
  },
  "language_info": {
   "codemirror_mode": {
    "name": "ipython",
    "version": 3
   },
   "file_extension": ".py",
   "mimetype": "text/x-python",
   "name": "python",
   "nbconvert_exporter": "python",
   "pygments_lexer": "ipython3",
   "version": "3.9.13"
  }
 },
 "nbformat": 4,
 "nbformat_minor": 5
}
